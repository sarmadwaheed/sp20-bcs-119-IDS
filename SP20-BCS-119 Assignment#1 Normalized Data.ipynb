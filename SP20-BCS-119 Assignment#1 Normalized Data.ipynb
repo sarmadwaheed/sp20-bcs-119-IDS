{
 "cells": [
  {
   "cell_type": "markdown",
   "id": "c2876107",
   "metadata": {},
   "source": [
    "# IDS ASSIGNMENT#1\n",
    "\n",
    "# SP20-BCS-119\n",
    "\n",
    "# SARMAD WAHEED AHMED\n",
    "\n",
    "\n"
   ]
  },
  {
   "cell_type": "code",
   "execution_count": 12,
   "id": "91434452",
   "metadata": {},
   "outputs": [],
   "source": [
    "import pandas as pd\n",
    "import matplotlib.pyplot as plt\n",
    "import numpy as np"
   ]
  },
  {
   "cell_type": "markdown",
   "id": "0146e879-4e12-4ef6-a54a-1b4dc223eba4",
   "metadata": {
    "tags": []
   },
   "source": [
    "## Manually view the dataset, and see if it requires any cleaning/normalization"
   ]
  },
  {
   "cell_type": "code",
   "execution_count": 13,
   "id": "30fffadd-64e9-47cf-8cac-2b09e3d42368",
   "metadata": {
    "tags": []
   },
   "outputs": [],
   "source": [
    "#Data is normalized in Normalized Data.ipynb file"
   ]
  },
  {
   "cell_type": "markdown",
   "id": "2d1b15d0-6a17-40ea-9e21-5b5815579c1a",
   "metadata": {
    "tags": []
   },
   "source": [
    "## Load the dataset (csv file) into a Pandas DataFrame."
   ]
  },
  {
   "cell_type": "code",
   "execution_count": 14,
   "id": "f9d6275b-b0c2-4206-a65d-98405a75caec",
   "metadata": {
    "tags": []
   },
   "outputs": [
    {
     "data": {
      "text/html": [
       "<div>\n",
       "<style scoped>\n",
       "    .dataframe tbody tr th:only-of-type {\n",
       "        vertical-align: middle;\n",
       "    }\n",
       "\n",
       "    .dataframe tbody tr th {\n",
       "        vertical-align: top;\n",
       "    }\n",
       "\n",
       "    .dataframe thead th {\n",
       "        text-align: right;\n",
       "    }\n",
       "</style>\n",
       "<table border=\"1\" class=\"dataframe\">\n",
       "  <thead>\n",
       "    <tr style=\"text-align: right;\">\n",
       "      <th></th>\n",
       "      <th>Unnamed: 0</th>\n",
       "      <th>Name</th>\n",
       "      <th>Gender</th>\n",
       "      <th>HSSC-1</th>\n",
       "      <th>HSSC-2</th>\n",
       "      <th>CGPA</th>\n",
       "      <th>FavoriteColor</th>\n",
       "      <th>BirthMonth</th>\n",
       "      <th>Weight</th>\n",
       "    </tr>\n",
       "  </thead>\n",
       "  <tbody>\n",
       "    <tr>\n",
       "      <th>0</th>\n",
       "      <td>0</td>\n",
       "      <td>Muhammad Usman</td>\n",
       "      <td>Male</td>\n",
       "      <td>440</td>\n",
       "      <td>369</td>\n",
       "      <td>2.80</td>\n",
       "      <td>Black</td>\n",
       "      <td>March</td>\n",
       "      <td>77</td>\n",
       "    </tr>\n",
       "    <tr>\n",
       "      <th>1</th>\n",
       "      <td>1</td>\n",
       "      <td>Taha Ishfaq</td>\n",
       "      <td>Male</td>\n",
       "      <td>415</td>\n",
       "      <td>408</td>\n",
       "      <td>2.73</td>\n",
       "      <td>Red</td>\n",
       "      <td>March</td>\n",
       "      <td>72</td>\n",
       "    </tr>\n",
       "    <tr>\n",
       "      <th>2</th>\n",
       "      <td>2</td>\n",
       "      <td>Muhammad Hamdan</td>\n",
       "      <td>Male</td>\n",
       "      <td>388</td>\n",
       "      <td>321</td>\n",
       "      <td>2.78</td>\n",
       "      <td>Black</td>\n",
       "      <td>October</td>\n",
       "      <td>53</td>\n",
       "    </tr>\n",
       "    <tr>\n",
       "      <th>3</th>\n",
       "      <td>3</td>\n",
       "      <td>Syeda Maham Gillani</td>\n",
       "      <td>Female</td>\n",
       "      <td>412</td>\n",
       "      <td>440</td>\n",
       "      <td>3.11</td>\n",
       "      <td>Blue</td>\n",
       "      <td>February</td>\n",
       "      <td>63</td>\n",
       "    </tr>\n",
       "    <tr>\n",
       "      <th>4</th>\n",
       "      <td>4</td>\n",
       "      <td>Umar Wasim</td>\n",
       "      <td>Male</td>\n",
       "      <td>364</td>\n",
       "      <td>469</td>\n",
       "      <td>2.42</td>\n",
       "      <td>Black</td>\n",
       "      <td>October</td>\n",
       "      <td>80</td>\n",
       "    </tr>\n",
       "    <tr>\n",
       "      <th>...</th>\n",
       "      <td>...</td>\n",
       "      <td>...</td>\n",
       "      <td>...</td>\n",
       "      <td>...</td>\n",
       "      <td>...</td>\n",
       "      <td>...</td>\n",
       "      <td>...</td>\n",
       "      <td>...</td>\n",
       "      <td>...</td>\n",
       "    </tr>\n",
       "    <tr>\n",
       "      <th>123</th>\n",
       "      <td>123</td>\n",
       "      <td>M Abubakar Malik</td>\n",
       "      <td>Male</td>\n",
       "      <td>410</td>\n",
       "      <td>349</td>\n",
       "      <td>2.94</td>\n",
       "      <td>Blue</td>\n",
       "      <td>February</td>\n",
       "      <td>65</td>\n",
       "    </tr>\n",
       "    <tr>\n",
       "      <th>124</th>\n",
       "      <td>124</td>\n",
       "      <td>Muhammad Ali</td>\n",
       "      <td>Male</td>\n",
       "      <td>403</td>\n",
       "      <td>390</td>\n",
       "      <td>2.52</td>\n",
       "      <td>Yellow</td>\n",
       "      <td>October</td>\n",
       "      <td>81</td>\n",
       "    </tr>\n",
       "    <tr>\n",
       "      <th>125</th>\n",
       "      <td>125</td>\n",
       "      <td>shafaqat ali</td>\n",
       "      <td>Male</td>\n",
       "      <td>424</td>\n",
       "      <td>400</td>\n",
       "      <td>3.07</td>\n",
       "      <td>Black</td>\n",
       "      <td>May</td>\n",
       "      <td>58</td>\n",
       "    </tr>\n",
       "    <tr>\n",
       "      <th>126</th>\n",
       "      <td>126</td>\n",
       "      <td>Ammar Asif</td>\n",
       "      <td>Male</td>\n",
       "      <td>351</td>\n",
       "      <td>423</td>\n",
       "      <td>2.52</td>\n",
       "      <td>Black</td>\n",
       "      <td>December</td>\n",
       "      <td>68</td>\n",
       "    </tr>\n",
       "    <tr>\n",
       "      <th>127</th>\n",
       "      <td>127</td>\n",
       "      <td>Muhammad Zubair</td>\n",
       "      <td>Male</td>\n",
       "      <td>361</td>\n",
       "      <td>335</td>\n",
       "      <td>2.81</td>\n",
       "      <td>Black</td>\n",
       "      <td>March</td>\n",
       "      <td>58</td>\n",
       "    </tr>\n",
       "  </tbody>\n",
       "</table>\n",
       "<p>128 rows × 9 columns</p>\n",
       "</div>"
      ],
      "text/plain": [
       "     Unnamed: 0                 Name  Gender  HSSC-1  HSSC-2  CGPA  \\\n",
       "0             0       Muhammad Usman    Male     440     369  2.80   \n",
       "1             1          Taha Ishfaq    Male     415     408  2.73   \n",
       "2             2      Muhammad Hamdan    Male     388     321  2.78   \n",
       "3             3  Syeda Maham Gillani  Female     412     440  3.11   \n",
       "4             4           Umar Wasim    Male     364     469  2.42   \n",
       "..          ...                  ...     ...     ...     ...   ...   \n",
       "123         123     M Abubakar Malik    Male     410     349  2.94   \n",
       "124         124         Muhammad Ali    Male     403     390  2.52   \n",
       "125         125         shafaqat ali    Male     424     400  3.07   \n",
       "126         126          Ammar Asif     Male     351     423  2.52   \n",
       "127         127      Muhammad Zubair    Male     361     335  2.81   \n",
       "\n",
       "    FavoriteColor BirthMonth  Weight  \n",
       "0           Black      March      77  \n",
       "1             Red      March      72  \n",
       "2           Black    October      53  \n",
       "3            Blue   February      63  \n",
       "4           Black    October      80  \n",
       "..            ...        ...     ...  \n",
       "123          Blue   February      65  \n",
       "124        Yellow    October      81  \n",
       "125         Black        May      58  \n",
       "126         Black   December      68  \n",
       "127         Black      March      58  \n",
       "\n",
       "[128 rows x 9 columns]"
      ]
     },
     "execution_count": 14,
     "metadata": {},
     "output_type": "execute_result"
    }
   ],
   "source": [
    "df = pd.read_csv(\"HelloDataset.csv\")\n",
    "df"
   ]
  },
  {
   "cell_type": "markdown",
   "id": "deeae86d-645c-4675-9df1-f0645c6517f5",
   "metadata": {
    "tags": []
   },
   "source": [
    "## Print the list of all students whose first name starts with letter the 'H'."
   ]
  },
  {
   "cell_type": "code",
   "execution_count": 15,
   "id": "8d490925-b43f-4cb6-b938-78fd0cc8dfe3",
   "metadata": {
    "tags": []
   },
   "outputs": [
    {
     "data": {
      "text/html": [
       "<div>\n",
       "<style scoped>\n",
       "    .dataframe tbody tr th:only-of-type {\n",
       "        vertical-align: middle;\n",
       "    }\n",
       "\n",
       "    .dataframe tbody tr th {\n",
       "        vertical-align: top;\n",
       "    }\n",
       "\n",
       "    .dataframe thead th {\n",
       "        text-align: right;\n",
       "    }\n",
       "</style>\n",
       "<table border=\"1\" class=\"dataframe\">\n",
       "  <thead>\n",
       "    <tr style=\"text-align: right;\">\n",
       "      <th></th>\n",
       "      <th>Unnamed: 0</th>\n",
       "      <th>Name</th>\n",
       "      <th>Gender</th>\n",
       "      <th>HSSC-1</th>\n",
       "      <th>HSSC-2</th>\n",
       "      <th>CGPA</th>\n",
       "      <th>FavoriteColor</th>\n",
       "      <th>BirthMonth</th>\n",
       "      <th>Weight</th>\n",
       "    </tr>\n",
       "  </thead>\n",
       "  <tbody>\n",
       "    <tr>\n",
       "      <th>19</th>\n",
       "      <td>19</td>\n",
       "      <td>Habib Ullah</td>\n",
       "      <td>Male</td>\n",
       "      <td>399</td>\n",
       "      <td>434</td>\n",
       "      <td>3.35</td>\n",
       "      <td>Mustard</td>\n",
       "      <td>April</td>\n",
       "      <td>60</td>\n",
       "    </tr>\n",
       "    <tr>\n",
       "      <th>20</th>\n",
       "      <td>20</td>\n",
       "      <td>Hunain Javed</td>\n",
       "      <td>Male</td>\n",
       "      <td>362</td>\n",
       "      <td>413</td>\n",
       "      <td>2.94</td>\n",
       "      <td>Black</td>\n",
       "      <td>September</td>\n",
       "      <td>76</td>\n",
       "    </tr>\n",
       "    <tr>\n",
       "      <th>56</th>\n",
       "      <td>56</td>\n",
       "      <td>Hafiz Malahim Labib.</td>\n",
       "      <td>Male</td>\n",
       "      <td>390</td>\n",
       "      <td>430</td>\n",
       "      <td>3.24</td>\n",
       "      <td>Orange</td>\n",
       "      <td>May</td>\n",
       "      <td>54</td>\n",
       "    </tr>\n",
       "    <tr>\n",
       "      <th>57</th>\n",
       "      <td>57</td>\n",
       "      <td>HAMNA TARIQ SALEEMI</td>\n",
       "      <td>Female</td>\n",
       "      <td>400</td>\n",
       "      <td>418</td>\n",
       "      <td>2.80</td>\n",
       "      <td>Black</td>\n",
       "      <td>October</td>\n",
       "      <td>62</td>\n",
       "    </tr>\n",
       "    <tr>\n",
       "      <th>74</th>\n",
       "      <td>74</td>\n",
       "      <td>Hina</td>\n",
       "      <td>Female</td>\n",
       "      <td>410</td>\n",
       "      <td>350</td>\n",
       "      <td>2.90</td>\n",
       "      <td>Blue</td>\n",
       "      <td>August</td>\n",
       "      <td>67</td>\n",
       "    </tr>\n",
       "    <tr>\n",
       "      <th>75</th>\n",
       "      <td>75</td>\n",
       "      <td>Hamza Javed Khan</td>\n",
       "      <td>Male</td>\n",
       "      <td>400</td>\n",
       "      <td>381</td>\n",
       "      <td>3.39</td>\n",
       "      <td>Blue</td>\n",
       "      <td>January</td>\n",
       "      <td>78</td>\n",
       "    </tr>\n",
       "    <tr>\n",
       "      <th>77</th>\n",
       "      <td>77</td>\n",
       "      <td>Husnain Ahmed</td>\n",
       "      <td>Male</td>\n",
       "      <td>335</td>\n",
       "      <td>427</td>\n",
       "      <td>2.41</td>\n",
       "      <td>Dark blue</td>\n",
       "      <td>September</td>\n",
       "      <td>72</td>\n",
       "    </tr>\n",
       "    <tr>\n",
       "      <th>94</th>\n",
       "      <td>94</td>\n",
       "      <td>Hussain afzal</td>\n",
       "      <td>Male</td>\n",
       "      <td>415</td>\n",
       "      <td>346</td>\n",
       "      <td>2.87</td>\n",
       "      <td>Blue</td>\n",
       "      <td>March</td>\n",
       "      <td>81</td>\n",
       "    </tr>\n",
       "  </tbody>\n",
       "</table>\n",
       "</div>"
      ],
      "text/plain": [
       "    Unnamed: 0                  Name  Gender  HSSC-1  HSSC-2  CGPA  \\\n",
       "19          19           Habib Ullah    Male     399     434  3.35   \n",
       "20          20          Hunain Javed    Male     362     413  2.94   \n",
       "56          56  Hafiz Malahim Labib.    Male     390     430  3.24   \n",
       "57          57   HAMNA TARIQ SALEEMI  Female     400     418  2.80   \n",
       "74          74                  Hina  Female     410     350  2.90   \n",
       "75          75      Hamza Javed Khan    Male     400     381  3.39   \n",
       "77          77        Husnain Ahmed     Male     335     427  2.41   \n",
       "94          94         Hussain afzal    Male     415     346  2.87   \n",
       "\n",
       "   FavoriteColor BirthMonth  Weight  \n",
       "19       Mustard      April      60  \n",
       "20         Black  September      76  \n",
       "56        Orange        May      54  \n",
       "57         Black    October      62  \n",
       "74          Blue     August      67  \n",
       "75          Blue    January      78  \n",
       "77     Dark blue  September      72  \n",
       "94          Blue      March      81  "
      ]
     },
     "execution_count": 15,
     "metadata": {},
     "output_type": "execute_result"
    }
   ],
   "source": [
    "names_start_with_H = df[\"Name\"].str.startswith(\"H\", na = False)\n",
    "df[names_start_with_H]"
   ]
  },
  {
   "cell_type": "markdown",
   "id": "df56c209-103c-4de4-a5ba-cf19fb344a5d",
   "metadata": {},
   "source": [
    "## Print the total number of students who have a three words name (first-middle-surname)."
   ]
  },
  {
   "cell_type": "code",
   "execution_count": 16,
   "id": "675008e9-91e2-4b61-aacf-76ff648e7515",
   "metadata": {},
   "outputs": [
    {
     "data": {
      "text/html": [
       "<div>\n",
       "<style scoped>\n",
       "    .dataframe tbody tr th:only-of-type {\n",
       "        vertical-align: middle;\n",
       "    }\n",
       "\n",
       "    .dataframe tbody tr th {\n",
       "        vertical-align: top;\n",
       "    }\n",
       "\n",
       "    .dataframe thead th {\n",
       "        text-align: right;\n",
       "    }\n",
       "</style>\n",
       "<table border=\"1\" class=\"dataframe\">\n",
       "  <thead>\n",
       "    <tr style=\"text-align: right;\">\n",
       "      <th></th>\n",
       "      <th>name</th>\n",
       "    </tr>\n",
       "  </thead>\n",
       "  <tbody>\n",
       "    <tr>\n",
       "      <th>0</th>\n",
       "      <td>Syeda Maham Gillani</td>\n",
       "    </tr>\n",
       "    <tr>\n",
       "      <th>1</th>\n",
       "      <td>Muhammad Subhan Khan</td>\n",
       "    </tr>\n",
       "    <tr>\n",
       "      <th>2</th>\n",
       "      <td>SARMAD WAHEED AHMED</td>\n",
       "    </tr>\n",
       "    <tr>\n",
       "      <th>3</th>\n",
       "      <td>M Hassaan Lateef</td>\n",
       "    </tr>\n",
       "    <tr>\n",
       "      <th>4</th>\n",
       "      <td>Ahmed Amjad Dar</td>\n",
       "    </tr>\n",
       "    <tr>\n",
       "      <th>5</th>\n",
       "      <td>Muhammad Ibrahim Khalil</td>\n",
       "    </tr>\n",
       "    <tr>\n",
       "      <th>6</th>\n",
       "      <td>Muhammad saim jamil</td>\n",
       "    </tr>\n",
       "    <tr>\n",
       "      <th>7</th>\n",
       "      <td>Ahmar Hafeez Khan</td>\n",
       "    </tr>\n",
       "    <tr>\n",
       "      <th>8</th>\n",
       "      <td>Muhammad Umar Asghar</td>\n",
       "    </tr>\n",
       "    <tr>\n",
       "      <th>9</th>\n",
       "      <td>MUHAMMAD HAIDER AWAN</td>\n",
       "    </tr>\n",
       "    <tr>\n",
       "      <th>10</th>\n",
       "      <td>Abdul Mateen Alam</td>\n",
       "    </tr>\n",
       "    <tr>\n",
       "      <th>11</th>\n",
       "      <td>Muhammad Ammar Khalid</td>\n",
       "    </tr>\n",
       "    <tr>\n",
       "      <th>12</th>\n",
       "      <td>Osama Nadeem Khan</td>\n",
       "    </tr>\n",
       "    <tr>\n",
       "      <th>13</th>\n",
       "      <td>Muhammad Hashir Azeem</td>\n",
       "    </tr>\n",
       "    <tr>\n",
       "      <th>14</th>\n",
       "      <td>Muhammad Aun Raza</td>\n",
       "    </tr>\n",
       "    <tr>\n",
       "      <th>15</th>\n",
       "      <td>Syeda Noor Zehra</td>\n",
       "    </tr>\n",
       "    <tr>\n",
       "      <th>16</th>\n",
       "      <td>Hafiz Malahim Labib</td>\n",
       "    </tr>\n",
       "    <tr>\n",
       "      <th>17</th>\n",
       "      <td>HAMNA TARIQ SALEEMI</td>\n",
       "    </tr>\n",
       "    <tr>\n",
       "      <th>18</th>\n",
       "      <td>Bashara Tehseen Liaqat</td>\n",
       "    </tr>\n",
       "    <tr>\n",
       "      <th>19</th>\n",
       "      <td>Muhammad zafar ijaz</td>\n",
       "    </tr>\n",
       "    <tr>\n",
       "      <th>20</th>\n",
       "      <td>Muhammad Hammad Ejaz</td>\n",
       "    </tr>\n",
       "    <tr>\n",
       "      <th>21</th>\n",
       "      <td>MUHAMMAD SAIF ULLAH</td>\n",
       "    </tr>\n",
       "    <tr>\n",
       "      <th>22</th>\n",
       "      <td>Syed Muhammad Hamza</td>\n",
       "    </tr>\n",
       "    <tr>\n",
       "      <th>23</th>\n",
       "      <td>Muhammad Al Fahad</td>\n",
       "    </tr>\n",
       "    <tr>\n",
       "      <th>24</th>\n",
       "      <td>Syed Ali Raza</td>\n",
       "    </tr>\n",
       "    <tr>\n",
       "      <th>25</th>\n",
       "      <td>Abdul Hadi Khan</td>\n",
       "    </tr>\n",
       "    <tr>\n",
       "      <th>26</th>\n",
       "      <td>Hamza Javed Khan</td>\n",
       "    </tr>\n",
       "    <tr>\n",
       "      <th>27</th>\n",
       "      <td>Syed Muhammad Ali</td>\n",
       "    </tr>\n",
       "    <tr>\n",
       "      <th>28</th>\n",
       "      <td>Salman Wasi Ahmad</td>\n",
       "    </tr>\n",
       "    <tr>\n",
       "      <th>29</th>\n",
       "      <td>GHULAM MUSTAFA SHIEKH</td>\n",
       "    </tr>\n",
       "    <tr>\n",
       "      <th>30</th>\n",
       "      <td>Muhammad Azeem Shoukat</td>\n",
       "    </tr>\n",
       "    <tr>\n",
       "      <th>31</th>\n",
       "      <td>Muhammad Nouman Tahir</td>\n",
       "    </tr>\n",
       "    <tr>\n",
       "      <th>32</th>\n",
       "      <td>Muhammad Huzaifa Jawad</td>\n",
       "    </tr>\n",
       "    <tr>\n",
       "      <th>33</th>\n",
       "      <td>Muhammad Asadullah Rind</td>\n",
       "    </tr>\n",
       "    <tr>\n",
       "      <th>34</th>\n",
       "      <td>Muhammad Talha Saeed</td>\n",
       "    </tr>\n",
       "    <tr>\n",
       "      <th>35</th>\n",
       "      <td>Muhammad Bilal Aslam</td>\n",
       "    </tr>\n",
       "    <tr>\n",
       "      <th>36</th>\n",
       "      <td>Syed Ali Mehdi</td>\n",
       "    </tr>\n",
       "    <tr>\n",
       "      <th>37</th>\n",
       "      <td>Aftab Ahmad Khan</td>\n",
       "    </tr>\n",
       "    <tr>\n",
       "      <th>38</th>\n",
       "      <td>Syed Zain Raza</td>\n",
       "    </tr>\n",
       "    <tr>\n",
       "      <th>39</th>\n",
       "      <td>Mutyyab Ul Hassan</td>\n",
       "    </tr>\n",
       "    <tr>\n",
       "      <th>40</th>\n",
       "      <td>Muhammad Umair Tariq</td>\n",
       "    </tr>\n",
       "    <tr>\n",
       "      <th>41</th>\n",
       "      <td>M Abubakar Malik</td>\n",
       "    </tr>\n",
       "  </tbody>\n",
       "</table>\n",
       "</div>"
      ],
      "text/plain": [
       "                       name\n",
       "0       Syeda Maham Gillani\n",
       "1      Muhammad Subhan Khan\n",
       "2       SARMAD WAHEED AHMED\n",
       "3          M Hassaan Lateef\n",
       "4           Ahmed Amjad Dar\n",
       "5   Muhammad Ibrahim Khalil\n",
       "6       Muhammad saim jamil\n",
       "7         Ahmar Hafeez Khan\n",
       "8      Muhammad Umar Asghar\n",
       "9      MUHAMMAD HAIDER AWAN\n",
       "10        Abdul Mateen Alam\n",
       "11    Muhammad Ammar Khalid\n",
       "12        Osama Nadeem Khan\n",
       "13    Muhammad Hashir Azeem\n",
       "14        Muhammad Aun Raza\n",
       "15         Syeda Noor Zehra\n",
       "16      Hafiz Malahim Labib\n",
       "17      HAMNA TARIQ SALEEMI\n",
       "18   Bashara Tehseen Liaqat\n",
       "19      Muhammad zafar ijaz\n",
       "20     Muhammad Hammad Ejaz\n",
       "21      MUHAMMAD SAIF ULLAH\n",
       "22      Syed Muhammad Hamza\n",
       "23        Muhammad Al Fahad\n",
       "24            Syed Ali Raza\n",
       "25          Abdul Hadi Khan\n",
       "26         Hamza Javed Khan\n",
       "27        Syed Muhammad Ali\n",
       "28        Salman Wasi Ahmad\n",
       "29    GHULAM MUSTAFA SHIEKH\n",
       "30   Muhammad Azeem Shoukat\n",
       "31    Muhammad Nouman Tahir\n",
       "32   Muhammad Huzaifa Jawad\n",
       "33  Muhammad Asadullah Rind\n",
       "34     Muhammad Talha Saeed\n",
       "35     Muhammad Bilal Aslam\n",
       "36           Syed Ali Mehdi\n",
       "37         Aftab Ahmad Khan\n",
       "38           Syed Zain Raza\n",
       "39        Mutyyab Ul Hassan\n",
       "40     Muhammad Umair Tariq\n",
       "41         M Abubakar Malik"
      ]
     },
     "execution_count": 16,
     "metadata": {},
     "output_type": "execute_result"
    }
   ],
   "source": [
    "import re\n",
    "results = []\n",
    "for name in df['Name']:\n",
    "    name = re.findall(r'(\\w+)(\\s)(\\w+)(\\s)(\\w+)', name)\n",
    "    if name != []:\n",
    "        jsonObj = {\"name\":name[0][0] + name[0][1] + name[0][2] + name[0][3] + name[0][4]}\n",
    "        results.append(jsonObj)\n",
    "    \n",
    "df2 = pd.DataFrame(results)\n",
    "df2"
   ]
  },
  {
   "cell_type": "markdown",
   "id": "0a00f732-1d28-4e89-90c4-4ff9abebb700",
   "metadata": {},
   "source": [
    "## Print the percentage of students who have a CGPA of 3.0 or above."
   ]
  },
  {
   "cell_type": "code",
   "execution_count": 17,
   "id": "69e9cd5d-c5b1-457e-9aa6-82934ee5cb29",
   "metadata": {},
   "outputs": [
    {
     "name": "stdout",
     "output_type": "stream",
     "text": [
      "The percentage of students who have CGPA of 3.0 or above is 26.56%\n"
     ]
    }
   ],
   "source": [
    "count = 0\n",
    "for cgpa in df['CGPA']:\n",
    "    if float(cgpa) >= 3.0:\n",
    "        count+=1\n",
    "        \n",
    "perc = count / len(df['CGPA']) *100\n",
    "\n",
    "print(\"The percentage of students who have CGPA of 3.0 or above is \" + str(float(\"{:.2f}\".format(perc))) + \"%\")"
   ]
  },
  {
   "cell_type": "markdown",
   "id": "9587e89f-2c91-442c-9484-a84bd95860aa",
   "metadata": {},
   "source": [
    "## Plot a pie chart to show the ratio of male and female students."
   ]
  },
  {
   "cell_type": "code",
   "execution_count": 18,
   "id": "08132cfa-4bbc-40ee-878a-2c2cd5174246",
   "metadata": {},
   "outputs": [
    {
     "name": "stdout",
     "output_type": "stream",
     "text": [
      "Male = 108\n",
      "Female = 20\n"
     ]
    },
    {
     "data": {
      "image/png": "[encoded data removed]",
      "text/plain": [
       "<Figure size 432x288 with 1 Axes>"
      ]
     },
     "metadata": {},
     "output_type": "display_data"
    }
   ],
   "source": [
    "male_count = 0\n",
    "female_count = 0\n",
    "\n",
    "for gender in df['Gender']:\n",
    "    if gender == \"Male\":\n",
    "        male_count+=1\n",
    "    else:\n",
    "        female_count+=1\n",
    "        \n",
    "print(\"Male = \" + str(male_count))\n",
    "print(\"Female = \" + str(female_count))\n",
    "\n",
    "labels = ['Male', 'Female']\n",
    "colors = ['#99ff99','#ff9999']\n",
    " \n",
    "data = [male_count, female_count]\n",
    "plt.pie(data, labels = labels, colors=colors, autopct='%1.1f%%')\n",
    "plt.show()"
   ]
  },
  {
   "cell_type": "markdown",
   "id": "38f4dfd0-8d8a-48ed-9789-c71cbb0b845b",
   "metadata": {},
   "source": [
    "## Plot the CGPA of all male students on a histogram with intervals 2.0-2.5, 2.6-3.0, 3.1-3.5, 3.6-4.0."
   ]
  },
  {
   "cell_type": "code",
   "execution_count": 19,
   "id": "994369ff-52ba-4108-96b1-64b841f36050",
   "metadata": {},
   "outputs": [
    {
     "data": {
      "image/png": "[encoded data removed]",
      "text/plain": [
       "<Figure size 432x288 with 1 Axes>"
      ]
     },
     "metadata": {
      "needs_background": "light"
     },
     "output_type": "display_data"
    }
   ],
   "source": [
    "results = []\n",
    "\n",
    "for gpa, gender in zip(df['CGPA'], df['Gender']):\n",
    "    \n",
    "    if gender == 'Male':\n",
    "        results.append(gpa)\n",
    "    \n",
    "plt.hist(results, edgecolor='black',color='#99ff99', bins=[2, 2.5, 3.0, 3.5, 4])\n",
    "plt.title('CGPA of Male Students', fontsize=14)\n",
    "plt.xlabel('CGPA', fontsize=10)\n",
    "plt.ylabel('No. of Students', fontsize=12)\n",
    "plt.show()"
   ]
  },
  {
   "cell_type": "markdown",
   "id": "960eb818-0212-4eb7-9f09-db0c5e1b974e",
   "metadata": {},
   "source": [
    "## Plot the HSSC-1 marks of all male vs female students on a scatter plot."
   ]
  },
  {
   "cell_type": "code",
   "execution_count": 20,
   "id": "c401df41-5963-4fb9-bda4-ca7c6a1fe0e3",
   "metadata": {},
   "outputs": [
    {
     "data": {
      "image/png": "[encoded data removed]",
      "text/plain": [
       "<Figure size 432x288 with 1 Axes>"
      ]
     },
     "metadata": {
      "needs_background": "light"
     },
     "output_type": "display_data"
    }
   ],
   "source": [
    "male_marks = []\n",
    "female_marks = []\n",
    "\n",
    "for gender, marks in zip(df['Gender'], df['HSSC-1']):\n",
    "    if gender == 'Male':\n",
    "        male_marks.append(marks)\n",
    "    else:\n",
    "         female_marks.append(marks)\n",
    "            \n",
    "i = 0\n",
    "x = len(df['HSSC-1']) - len(male_marks)\n",
    "while (i < x):\n",
    "    male_marks.append('NaN')\n",
    "    i+=1\n",
    "\n",
    "i = 0\n",
    "x = len(df['HSSC-1']) - len(female_marks)\n",
    "while (i < x):\n",
    "    female_marks.append('NaN')\n",
    "    i+=1\n",
    "    \n",
    "\n",
    "grades_range = df['HSSC-1']\n",
    "\n",
    "\n",
    "    \n",
    "plt.scatter(grades_range, male_marks, marker='o',c='#99ff99')\n",
    "plt.scatter(grades_range,female_marks, marker='x',c='#ff9999')\n",
    "plt.xlabel('Marks Obtained', fontsize=12)\n",
    "plt.ylabel('Total Marks', fontsize=12)\n",
    "plt.title(\"HSSC-1 marks of all male vs female students\", fontsize=12)\n",
    "plt.legend([\"Male\" , \"Female\"])\n",
    "\n",
    "\n",
    "plt.grid(True)\n",
    "plt.show()\n"
   ]
  },
  {
   "cell_type": "markdown",
   "id": "05ac92b7-1632-4fec-a374-321cf01144d3",
   "metadata": {},
   "source": [
    "## Plot the favorite colors of male vs female students on a bar chart."
   ]
  },
  {
   "cell_type": "code",
   "execution_count": 21,
   "id": "2ba1ef9b-7d49-4815-9bd3-c032dd65cad8",
   "metadata": {},
   "outputs": [
    {
     "data": {
      "image/png": "[encoded data removed]",
      "text/plain": [
       "<Figure size 432x288 with 1 Axes>"
      ]
     },
     "metadata": {
      "needs_background": "light"
     },
     "output_type": "display_data"
    }
   ],
   "source": [
    "x = df['FavoriteColor'].unique()\n",
    "jsonObj = {\"Color\":x}\n",
    "df2 = pd.DataFrame(x) \n",
    "df2 = pd.DataFrame(jsonObj)\n",
    "df2\n",
    "\n",
    "male = []\n",
    "female = []\n",
    "c='#99ff99'\n",
    "col='#ff9999'\n",
    "for color in df2['Color']:\n",
    "    male_frequency = 0\n",
    "    female_frequency = 0\n",
    "    for clr, gndr in zip(df['FavoriteColor'], df['Gender']):\n",
    "        if color == clr:\n",
    "            if(gndr == \"Male\"):\n",
    "                male_frequency+=1\n",
    "            else:\n",
    "                female_frequency+=1\n",
    "    male.append(male_frequency)\n",
    "    female.append(female_frequency)\n",
    "    \n",
    "X_axis = np.arange(len(x))\n",
    "  \n",
    "plt.bar(X_axis - 0.2, male, 0.4, label = 'Male',color=c)\n",
    "plt.bar(X_axis + 0.2, female, 0.4, label = 'Female',color=col)\n",
    "  \n",
    "plt.xticks(X_axis, x, rotation='vertical')\n",
    "plt.xlabel(\"Colors\")\n",
    "plt.ylabel(\"Number of Students\")\n",
    "plt.title(\"Favorite Colors of each Gender\")\n",
    "plt.legend()\n",
    "plt.show()"
   ]
  },
  {
   "cell_type": "markdown",
   "id": "449ab000-d101-4cf7-8ed6-d8666eb83ca8",
   "metadata": {},
   "source": [
    "## Plot line chart of students and their birth months."
   ]
  },
  {
   "cell_type": "code",
   "execution_count": 22,
   "id": "667c8418-dc01-4b21-aff6-bc9d187e2d9e",
   "metadata": {},
   "outputs": [
    {
     "name": "stdout",
     "output_type": "stream",
     "text": [
      "[7, 18, 18, 5, 7, 4, 6, 7, 10, 27, 9, 8]\n"
     ]
    },
    {
     "data": {
      "image/png": "[encoded data removed]",
      "text/plain": [
       "<Figure size 432x288 with 1 Axes>"
      ]
     },
     "metadata": {
      "needs_background": "light"
     },
     "output_type": "display_data"
    }
   ],
   "source": [
    "\n",
    "results = [0, 0, 0, 0, 0, 0, 0, 0, 0, 0, 0, 0]\n",
    "\n",
    "\n",
    "for month in df['BirthMonth']:\n",
    "    if month == 'January':\n",
    "        results[0] += 1\n",
    "    elif month == 'February':\n",
    "        results[1] += 1\n",
    "    elif month == 'March':\n",
    "        results[2] += 1\n",
    "    elif month == 'April':\n",
    "        results[3] += 1\n",
    "    elif month == 'May':\n",
    "        results[4] += 1\n",
    "    elif month == 'June':\n",
    "        results[5] += 1\n",
    "    elif month == 'July':\n",
    "        results[6] += 1\n",
    "    elif month == 'August':\n",
    "        results[7] += 1\n",
    "    elif month == 'September':\n",
    "        results[8] += 1\n",
    "    elif month == 'October':\n",
    "        results[9] += 1\n",
    "    elif month == 'November':\n",
    "        results[10] += 1\n",
    "    elif month == 'December':\n",
    "        results[11] += 1\n",
    "    \n",
    "print(results)\n",
    "\n",
    "x = np.arange(start=1, stop=13, step = 1)\n",
    "my_xticks = ['Jan','Feb','Mar','Apr', 'May', 'Jun', 'Jul', 'Aug', 'Sep', 'Oct', 'Nov', 'Dec']\n",
    "plt.xticks(x, my_xticks)\n",
    "plt.plot(x, results, marker='o',color='#99ff99')\n",
    "plt.title(\"Students' Birth Month Data\")\n",
    "plt.xlabel(\"Birth Months\")\n",
    "plt.ylabel(\"No. of Students\")\n",
    "plt.grid(True)\n",
    "plt.show()"
   ]
  },
  {
   "cell_type": "markdown",
   "id": "38261bad-24ea-4dbd-a433-e22619c08607",
   "metadata": {},
   "source": [
    "## Create a correlation matrix between HSSC-1 and HSSC-2 marks and then plot on a heatmap."
   ]
  },
  {
   "cell_type": "code",
   "execution_count": 23,
   "id": "2874b2fb-bf33-4747-b1d4-309fb3becd66",
   "metadata": {},
   "outputs": [
    {
     "name": "stdout",
     "output_type": "stream",
     "text": [
      "Dataframe is : \n",
      "       x    y\n",
      "0    440  369\n",
      "1    415  408\n",
      "2    388  321\n",
      "3    412  440\n",
      "4    364  469\n",
      "..   ...  ...\n",
      "123  410  349\n",
      "124  403  390\n",
      "125  424  400\n",
      "126  351  423\n",
      "127  361  335\n",
      "\n",
      "[128 rows x 2 columns]\n",
      "Correlation matrix is : \n",
      "          x         y\n",
      "x  1.000000 -0.157301\n",
      "y -0.157301  1.000000\n"
     ]
    },
    {
     "data": {
      "image/png": "[encoded data removed]",
      "text/plain": [
       "<Figure size 432x288 with 1 Axes>"
      ]
     },
     "metadata": {
      "needs_background": "light"
     },
     "output_type": "display_data"
    }
   ],
   "source": [
    "x = np.array(df['HSSC-1'])\n",
    "y = np.array(df['HSSC-2'])\n",
    "\n",
    "data = {\n",
    "    'x': np.array(df['HSSC-1']),\n",
    "    'y':  np.array(df['HSSC-2'])\n",
    "}\n",
    "\n",
    "dataframe = pd.DataFrame(data, columns=['x', 'y'])\n",
    "print(\"Dataframe is : \")\n",
    "print(dataframe)\n",
    "\n",
    "matrix = dataframe.corr()\n",
    "print(\"Correlation matrix is : \")\n",
    "print(matrix)\n",
    "\n",
    "plt.imshow(matrix, cmap=\"Greens\", interpolation='nearest')\n",
    "plt.show()"
   ]
  },
  {
   "cell_type": "markdown",
   "id": "76854d73-96ae-4df8-a491-86c134904358",
   "metadata": {},
   "source": [
    "## Bonus points: What other things (insights) you can get from the dataset?\n",
    "### 1. CGPA of Male vs Female students\n",
    "### 2. Bar Graph of Weights of Students\n",
    "### 3. Correlation between HSSC-1 and HSSC-2 total marks and CGPA of students"
   ]
  },
  {
   "cell_type": "code",
   "execution_count": null,
   "id": "476f049b",
   "metadata": {},
   "outputs": [],
   "source": []
  },
  {
   "cell_type": "markdown",
   "id": "fa1c173f",
   "metadata": {},
   "source": [
    "\n",
    "\n"
   ]
  },
  {
   "cell_type": "code",
   "execution_count": null,
   "id": "8c24ae3f",
   "metadata": {},
   "outputs": [],
   "source": []
  }
 ],
 "metadata": {
  "kernelspec": {
   "display_name": "Python 3 (ipykernel)",
   "language": "python",
   "name": "python3"
  },
  "language_info": {
   "codemirror_mode": {
    "name": "ipython",
    "version": 3
   },
   "file_extension": ".py",
   "mimetype": "text/x-python",
   "name": "python",
   "nbconvert_exporter": "python",
   "pygments_lexer": "ipython3",
   "version": "3.9.12"
  },
  "vscode": {
   "interpreter": {
    "hash": "dc07d24e2f18896857f0b2a651fe84ba40ce7b297e58d8804a308c8039f752a6"
   }
  }
 },
 "nbformat": 4,
 "nbformat_minor": 5
}
