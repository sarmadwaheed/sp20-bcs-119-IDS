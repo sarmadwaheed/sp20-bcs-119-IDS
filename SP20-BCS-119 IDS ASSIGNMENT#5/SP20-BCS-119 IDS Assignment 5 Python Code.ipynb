{
 "cells": [
  {
   "cell_type": "code",
   "execution_count": 4,
   "metadata": {},
   "outputs": [],
   "source": [
    "docx = \"sunshine state enjoy sunshine\"\n",
    "docy = \"brown fox jump high, brown fox run\" \n",
    "docz=\"sunshine state fox run fast\"\n",
    "bowx = docx.split(\" \")\n",
    "bowy = docy.split(\" \")\n",
    "bowz = docz.split(\" \")"
   ]
  },
  {
   "cell_type": "code",
   "execution_count": 6,
   "metadata": {},
   "outputs": [],
   "source": [
    "words = set(bowx).union(set(bowy)).union(set(bowz))"
   ]
  },
  {
   "cell_type": "code",
   "execution_count": 7,
   "metadata": {},
   "outputs": [
    {
     "data": {
      "text/plain": [
       "{'brown', 'enjoy', 'fast', 'fox', 'high,', 'jump', 'run', 'state', 'sunshine'}"
      ]
     },
     "execution_count": 7,
     "metadata": {},
     "output_type": "execute_result"
    }
   ],
   "source": [
    "words"
   ]
  },
  {
   "cell_type": "code",
   "execution_count": 13,
   "metadata": {},
   "outputs": [],
   "source": [
    "wordDictx = dict.fromkeys(words, 0) \n",
    "wordDicty = dict.fromkeys(words, 0) \n",
    "wordDictz = dict.fromkeys(words, 0) "
   ]
  },
  {
   "cell_type": "code",
   "execution_count": 14,
   "metadata": {},
   "outputs": [],
   "source": [
    "for word in bowx:\n",
    "    wordDictx[word]+=1\n",
    "for word in bowy:\n",
    "    wordDicty[word]+=1\n",
    "for word in bowz:\n",
    "    wordDictz[word]+=1"
   ]
  },
  {
   "cell_type": "code",
   "execution_count": 15,
   "metadata": {},
   "outputs": [
    {
     "data": {
      "text/html": [
       "<div>\n",
       "<style scoped>\n",
       "    .dataframe tbody tr th:only-of-type {\n",
       "        vertical-align: middle;\n",
       "    }\n",
       "\n",
       "    .dataframe tbody tr th {\n",
       "        vertical-align: top;\n",
       "    }\n",
       "\n",
       "    .dataframe thead th {\n",
       "        text-align: right;\n",
       "    }\n",
       "</style>\n",
       "<table border=\"1\" class=\"dataframe\">\n",
       "  <thead>\n",
       "    <tr style=\"text-align: right;\">\n",
       "      <th></th>\n",
       "      <th>enjoy</th>\n",
       "      <th>fox</th>\n",
       "      <th>run</th>\n",
       "      <th>fast</th>\n",
       "      <th>brown</th>\n",
       "      <th>sunshine</th>\n",
       "      <th>jump</th>\n",
       "      <th>high,</th>\n",
       "      <th>state</th>\n",
       "    </tr>\n",
       "  </thead>\n",
       "  <tbody>\n",
       "    <tr>\n",
       "      <th>0</th>\n",
       "      <td>1</td>\n",
       "      <td>0</td>\n",
       "      <td>0</td>\n",
       "      <td>0</td>\n",
       "      <td>0</td>\n",
       "      <td>2</td>\n",
       "      <td>0</td>\n",
       "      <td>0</td>\n",
       "      <td>1</td>\n",
       "    </tr>\n",
       "    <tr>\n",
       "      <th>1</th>\n",
       "      <td>0</td>\n",
       "      <td>2</td>\n",
       "      <td>1</td>\n",
       "      <td>0</td>\n",
       "      <td>2</td>\n",
       "      <td>0</td>\n",
       "      <td>1</td>\n",
       "      <td>1</td>\n",
       "      <td>0</td>\n",
       "    </tr>\n",
       "    <tr>\n",
       "      <th>2</th>\n",
       "      <td>0</td>\n",
       "      <td>1</td>\n",
       "      <td>1</td>\n",
       "      <td>1</td>\n",
       "      <td>0</td>\n",
       "      <td>1</td>\n",
       "      <td>0</td>\n",
       "      <td>0</td>\n",
       "      <td>1</td>\n",
       "    </tr>\n",
       "  </tbody>\n",
       "</table>\n",
       "</div>"
      ],
      "text/plain": [
       "   enjoy  fox  run  fast  brown  sunshine  jump  high,  state\n",
       "0      1    0    0     0      0         2     0      0      1\n",
       "1      0    2    1     0      2         0     1      1      0\n",
       "2      0    1    1     1      0         1     0      0      1"
      ]
     },
     "execution_count": 15,
     "metadata": {},
     "output_type": "execute_result"
    }
   ],
   "source": [
    "import pandas as pd\n",
    "pd.DataFrame([wordDictx, wordDicty ,wordDictz])"
   ]
  },
  {
   "cell_type": "code",
   "execution_count": 16,
   "metadata": {},
   "outputs": [],
   "source": [
    "def computeTF(wordDict, bow):\n",
    "    tfDict = {}\n",
    "    bowCount = len(bow)\n",
    "    for word, count in wordDict.items():\n",
    "        tfDict[word] = count/float(bowCount)\n",
    "    return tfDict"
   ]
  },
  {
   "cell_type": "code",
   "execution_count": 18,
   "metadata": {},
   "outputs": [],
   "source": [
    "tfBowx = computeTF(wordDictx, bowx)\n",
    "tfBowy = computeTF(wordDicty, bowy)\n",
    "tfBowz = computeTF(wordDictz, bowz)"
   ]
  },
  {
   "cell_type": "code",
   "execution_count": 19,
   "metadata": {},
   "outputs": [
    {
     "data": {
      "text/plain": [
       "{'enjoy': 0.0,\n",
       " 'fox': 0.2857142857142857,\n",
       " 'run': 0.14285714285714285,\n",
       " 'fast': 0.0,\n",
       " 'brown': 0.2857142857142857,\n",
       " 'sunshine': 0.0,\n",
       " 'jump': 0.14285714285714285,\n",
       " 'high,': 0.14285714285714285,\n",
       " 'state': 0.0}"
      ]
     },
     "execution_count": 19,
     "metadata": {},
     "output_type": "execute_result"
    }
   ],
   "source": [
    "tfBowx"
   ]
  },
  {
   "cell_type": "code",
   "execution_count": 97,
   "metadata": {},
   "outputs": [
    {
     "data": {
      "text/plain": [
       "{'run': 0.14285714285714285,\n",
       " 'enjoy': 0.0,\n",
       " 'sunshine': 0.0,\n",
       " 'jump': 0.14285714285714285,\n",
       " 'brown': 0.2857142857142857,\n",
       " 'fast': 0.0,\n",
       " 'state': 0.0,\n",
       " 'fox': 0.2857142857142857,\n",
       " 'high,': 0.14285714285714285}"
      ]
     },
     "execution_count": 97,
     "metadata": {},
     "output_type": "execute_result"
    }
   ],
   "source": [
    "tfBowy"
   ]
  },
  {
   "cell_type": "code",
   "execution_count": 20,
   "metadata": {},
   "outputs": [
    {
     "data": {
      "text/plain": [
       "{'enjoy': 0.0,\n",
       " 'fox': 0.2,\n",
       " 'run': 0.2,\n",
       " 'fast': 0.2,\n",
       " 'brown': 0.0,\n",
       " 'sunshine': 0.2,\n",
       " 'jump': 0.0,\n",
       " 'high,': 0.0,\n",
       " 'state': 0.2}"
      ]
     },
     "execution_count": 20,
     "metadata": {},
     "output_type": "execute_result"
    }
   ],
   "source": [
    "tfBowz"
   ]
  },
  {
   "cell_type": "code",
   "execution_count": 25,
   "metadata": {},
   "outputs": [],
   "source": [
    "def computeIDF(docList):\n",
    "    import math\n",
    "    idfDict = {}\n",
    "    N = len(docList)\n",
    "    \n",
    "    idfDict = dict.fromkeys(docList[0].keys(), 0)\n",
    "    for doc in docList:\n",
    "        for word, val in doc.items():\n",
    "            if val > 0:\n",
    "                idfDict[word] += 1\n",
    "    \n",
    "    for word, val in idfDict.items():\n",
    "        idfDict[word] = math.log10(N / float(val))\n",
    "        \n",
    "    return idfDict    "
   ]
  },
  {
   "cell_type": "code",
   "execution_count": 26,
   "metadata": {},
   "outputs": [],
   "source": [
    "idff = computeIDF([wordDictx, wordDicty , wordDictz])"
   ]
  },
  {
   "cell_type": "code",
   "execution_count": 31,
   "metadata": {},
   "outputs": [],
   "source": [
    "def computeTFIDF(tfBow, idff):\n",
    "    tfidf = {}\n",
    "    for word, val in tfBow.items():\n",
    "        tfidf[word] = val*idff[word]\n",
    "    return tfidf\n",
    "    "
   ]
  },
  {
   "cell_type": "code",
   "execution_count": 32,
   "metadata": {},
   "outputs": [],
   "source": [
    "tfidfBowx = computeTFIDF(tfBowx, idff)\n",
    "tfidfBowy = computeTFIDF(tfBowy, idff)\n",
    "tfidfBowz = computeTFIDF(tfBowz, idff)"
   ]
  },
  {
   "cell_type": "code",
   "execution_count": 33,
   "metadata": {},
   "outputs": [
    {
     "data": {
      "text/html": [
       "<div>\n",
       "<style scoped>\n",
       "    .dataframe tbody tr th:only-of-type {\n",
       "        vertical-align: middle;\n",
       "    }\n",
       "\n",
       "    .dataframe tbody tr th {\n",
       "        vertical-align: top;\n",
       "    }\n",
       "\n",
       "    .dataframe thead th {\n",
       "        text-align: right;\n",
       "    }\n",
       "</style>\n",
       "<table border=\"1\" class=\"dataframe\">\n",
       "  <thead>\n",
       "    <tr style=\"text-align: right;\">\n",
       "      <th></th>\n",
       "      <th>enjoy</th>\n",
       "      <th>fox</th>\n",
       "      <th>run</th>\n",
       "      <th>fast</th>\n",
       "      <th>brown</th>\n",
       "      <th>sunshine</th>\n",
       "      <th>jump</th>\n",
       "      <th>high,</th>\n",
       "      <th>state</th>\n",
       "    </tr>\n",
       "  </thead>\n",
       "  <tbody>\n",
       "    <tr>\n",
       "      <th>0</th>\n",
       "      <td>0.11928</td>\n",
       "      <td>0.000000</td>\n",
       "      <td>0.000000</td>\n",
       "      <td>0.000000</td>\n",
       "      <td>0.00000</td>\n",
       "      <td>0.088046</td>\n",
       "      <td>0.00000</td>\n",
       "      <td>0.00000</td>\n",
       "      <td>0.044023</td>\n",
       "    </tr>\n",
       "    <tr>\n",
       "      <th>1</th>\n",
       "      <td>0.00000</td>\n",
       "      <td>0.050312</td>\n",
       "      <td>0.025156</td>\n",
       "      <td>0.000000</td>\n",
       "      <td>0.13632</td>\n",
       "      <td>0.000000</td>\n",
       "      <td>0.06816</td>\n",
       "      <td>0.06816</td>\n",
       "      <td>0.000000</td>\n",
       "    </tr>\n",
       "    <tr>\n",
       "      <th>2</th>\n",
       "      <td>0.00000</td>\n",
       "      <td>0.035218</td>\n",
       "      <td>0.035218</td>\n",
       "      <td>0.095424</td>\n",
       "      <td>0.00000</td>\n",
       "      <td>0.035218</td>\n",
       "      <td>0.00000</td>\n",
       "      <td>0.00000</td>\n",
       "      <td>0.035218</td>\n",
       "    </tr>\n",
       "  </tbody>\n",
       "</table>\n",
       "</div>"
      ],
      "text/plain": [
       "     enjoy       fox       run      fast    brown  sunshine     jump    high,  \\\n",
       "0  0.11928  0.000000  0.000000  0.000000  0.00000  0.088046  0.00000  0.00000   \n",
       "1  0.00000  0.050312  0.025156  0.000000  0.13632  0.000000  0.06816  0.06816   \n",
       "2  0.00000  0.035218  0.035218  0.095424  0.00000  0.035218  0.00000  0.00000   \n",
       "\n",
       "      state  \n",
       "0  0.044023  \n",
       "1  0.000000  \n",
       "2  0.035218  "
      ]
     },
     "execution_count": 33,
     "metadata": {},
     "output_type": "execute_result"
    }
   ],
   "source": [
    "import pandas as pd\n",
    "pd.DataFrame([tfidfBowx, tfidfBowy , tfidfBowz])"
   ]
  },
  {
   "cell_type": "code",
   "execution_count": 35,
   "metadata": {},
   "outputs": [
    {
     "name": "stdout",
     "output_type": "stream",
     "text": [
      "Cosine Similarity: 0.5477225575051661\n"
     ]
    }
   ],
   "source": [
    "import numpy as np\n",
    "from numpy.linalg import norm\n",
    "S1 = np.array([2,1,1,0,0,0,0,0,0])\n",
    "S3 = np.array([1,1,0,0,1,0,0,1,1])\n",
    "cosine = np.dot(S1,S3)/(norm(S1)*norm(S3))\n",
    "print(\"Cosine Similarity:\", cosine)"
   ]
  }
 ],
 "metadata": {
  "kernelspec": {
   "display_name": "Python 3 (ipykernel)",
   "language": "python",
   "name": "python3"
  },
  "language_info": {
   "codemirror_mode": {
    "name": "ipython",
    "version": 3
   },
   "file_extension": ".py",
   "mimetype": "text/x-python",
   "name": "python",
   "nbconvert_exporter": "python",
   "pygments_lexer": "ipython3",
   "version": "3.9.12"
  }
 },
 "nbformat": 4,
 "nbformat_minor": 2
}
